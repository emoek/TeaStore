{
 "cells": [
  {
   "cell_type": "markdown",
   "metadata": {},
   "source": [
    "# Representative Workload Analysis - Correlation of workload"
   ]
  },
  {
   "cell_type": "code",
   "execution_count": null,
   "metadata": {},
   "outputs": [],
   "source": [
    "import json\n",
    "import pandas as pd\n",
    "import numpy as np\n",
    "import csv\n",
    "from scipy.signal import savgol_filter\n",
    "import matplotlib.pyplot as plt\n",
    "from sklearn.preprocessing import StandardScaler\n",
    "from sklearn.preprocessing import MinMaxScaler\n",
    "\n",
    "print(\"Done\")"
   ]
  },
  {
   "cell_type": "code",
   "execution_count": 2,
   "metadata": {},
   "outputs": [],
   "source": [
    "\"\"\"PATH OPERATIONS\"\"\"\n",
    "# use request data logged in SLO checker as JSON received from Operator\n",
    "path = \"../results/resultv4/request_data.json\"\n",
    "# or use \"Collect\" dummy SLO results provided by the Operator\n",
    "pathLogs = \"../results/resultv4/exp13_50_1_collect_logs_load_1.csv\""
   ]
  },
  {
   "cell_type": "code",
   "execution_count": null,
   "metadata": {},
   "outputs": [],
   "source": [
    "raw_file = open(path)\n",
    "raw_json = json.load(raw_file)\n",
    "\n",
    "instr_metric_idle = raw_json[\"results\"][\"first\"][0][\"second\"][\"second\"][0][\"values\"]\n",
    "# print(\"Len instr idle:\",len(instr_metric_idle))\n",
    "instr_metric_idle = instr_metric_idle[60:]\n",
    "\n",
    "print(instr_metric_idle)\n",
    "instr_metric_load = raw_json[\"results\"][\"first\"][0][\"third\"][\"second\"][0][\"values\"]\n",
    "instr_metric_load = instr_metric_load[60:]\n",
    "# print(\"Len instr load:\",len(instr_metric_load))\n",
    "print(instr_metric_load)\n",
    "\n",
    "net_metric_idle = raw_json[\"results\"][\"first\"][0][\"second\"][\"third\"][0][\"values\"]\n",
    "net_metric_idle = net_metric_idle[60:]\n",
    "# print(\"Len net idle:\",len(net_metric_idle))\n",
    "net_metric_load = raw_json[\"results\"][\"first\"][0][\"third\"][\"third\"][0][\"values\"]\n",
    "net_metric_load = net_metric_load[60:]\n",
    "# print(\"Len net load:\",len(net_metric_load))\n",
    "\n",
    "\n",
    "with open(pathLogs, newline='') as f:\n",
    "    reader = csv.reader(f)\n",
    "    data = list(reader)\n",
    "\n",
    "\n",
    "log_data = data[1:len(data)]\n",
    "\n",
    "log_load = []\n",
    "for i in log_data:\n",
    "    log_load.append([float(i[1]), i[2]])\n",
    "\n",
    "\n",
    "\n",
    "\n",
    "instr_idle = [float(val[1]) for val in instr_metric_idle]\n",
    "instr = [float(val[1]) for val in instr_metric_load]\n",
    "net_idle = net = [float(val[1]) for val in net_metric_idle]\n",
    "net = [float(val[1]) for val in net_metric_load]\n",
    "logs = [float(val[1]) for val in log_load]\n",
    "instr_result = [a - b for a, b in zip(instr, instr_idle)]\n",
    "net_result = [a - b for a, b in zip(net, net_idle)]\n",
    "print(instr_result)\n",
    "print(instr)\n",
    "print(net)\n",
    "print(logs)\n",
    "\n"
   ]
  },
  {
   "cell_type": "code",
   "execution_count": 23,
   "metadata": {},
   "outputs": [
    {
     "name": "stdout",
     "output_type": "stream",
     "text": [
      "0.9297583678902771\n"
     ]
    }
   ],
   "source": [
    "corr = np.corrcoef(net,instr)[0,1]\n",
    "\n",
    "print(corr)"
   ]
  },
  {
   "cell_type": "markdown",
   "metadata": {},
   "source": []
  }
 ],
 "metadata": {
  "kernelspec": {
   "display_name": "venv",
   "language": "python",
   "name": "python3"
  },
  "language_info": {
   "codemirror_mode": {
    "name": "ipython",
    "version": 3
   },
   "file_extension": ".py",
   "mimetype": "text/x-python",
   "name": "python",
   "nbconvert_exporter": "python",
   "pygments_lexer": "ipython3",
   "version": "3.10.12"
  }
 },
 "nbformat": 4,
 "nbformat_minor": 2
}
